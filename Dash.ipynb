{
 "cells": [
  {
   "cell_type": "code",
   "execution_count": null,
   "metadata": {},
   "outputs": [],
   "source": [
    "import pandas as pd\n",
    "import plotly.express as px\n",
    "from dash import Dash, html, dcc, Input, Output"
   ]
  },
  {
   "cell_type": "code",
   "execution_count": null,
   "metadata": {},
   "outputs": [],
   "source": [
    "df = pd.read_csv('out.csv')\n",
    "\n",
    "df.info()"
   ]
  },
  {
   "cell_type": "code",
   "execution_count": null,
   "metadata": {},
   "outputs": [],
   "source": [
    "df.drop(\"Unnamed: 0\", axis=1, inplace=True)"
   ]
  },
  {
   "cell_type": "code",
   "execution_count": null,
   "metadata": {},
   "outputs": [],
   "source": [
    "df.head()"
   ]
  },
  {
   "cell_type": "code",
   "execution_count": null,
   "metadata": {},
   "outputs": [],
   "source": [
    "df=df.rename(columns={\"Area\":\"Country\"})"
   ]
  },
  {
   "cell_type": "code",
   "execution_count": null,
   "metadata": {},
   "outputs": [],
   "source": [
    "print(df['Country'].value_counts(dropna=False))\n",
    "print(df['Item'].value_counts(dropna=False))"
   ]
  },
  {
   "cell_type": "code",
   "execution_count": null,
   "metadata": {
    "scrolled": false
   },
   "outputs": [],
   "source": [
    "import plotly.express as px\n",
    "\n",
    "fig = px.bar(df, x=\"Country\", y=\"import_qtd_value\", color=\"Country\",\n",
    "  animation_frame=\"Year\", animation_group=\"Item\", range_y=[0,200], title=\"Import Quantity Comparison Yearly\")\n",
    "fig.show()\n",
    "\n",
    "# Export quantity comparison\n",
    "fig = px.bar(df, x=\"Country\", y=\"export_qtd_value\", color=\"Country\",\n",
    "  animation_frame=\"Year\", animation_group=\"Item\", range_y=[0,200], title=\"Export Quantity Comparison Yearly\")\n",
    "fig.show()"
   ]
  },
  {
   "cell_type": "code",
   "execution_count": null,
   "metadata": {},
   "outputs": [],
   "source": [
    "fig = px.bar(df, x=\"Country\", y=\"import_value\", color=\"Country\",\n",
    "  animation_frame=\"Year\", animation_group=\"Item\", range_y=[0,200], title=\"Import Values Comparison Yearly\")\n",
    "fig.show()\n",
    "\n",
    "# Export quantity comparison\n",
    "fig = px.bar(df, x=\"Country\", y=\"export_value\", color=\"Country\",\n",
    "  animation_frame=\"Year\", animation_group=\"Item\", range_y=[0,200], title=\"Export Values Comparison Yearly\")\n",
    "fig.show()"
   ]
  },
  {
   "cell_type": "code",
   "execution_count": null,
   "metadata": {},
   "outputs": [],
   "source": [
    "df"
   ]
  },
  {
   "cell_type": "code",
   "execution_count": null,
   "metadata": {},
   "outputs": [],
   "source": [
    "#Sort the production DataFrame based on the feature 'Year'.\n",
    "df.sort_values(by=['Year'],inplace=True)\n",
    "df.head()"
   ]
  },
  {
   "cell_type": "code",
   "execution_count": null,
   "metadata": {},
   "outputs": [],
   "source": [
    "df1 = df[[\"Country\", \"Year\", \"Item\", \"import_value\", \"export_value\"]]\n",
    "df1"
   ]
  },
  {
   "cell_type": "code",
   "execution_count": null,
   "metadata": {},
   "outputs": [],
   "source": [
    "barley_df = df1.query(\"Item=='Barley'\")\n",
    "barley_df"
   ]
  },
  {
   "cell_type": "code",
   "execution_count": null,
   "metadata": {},
   "outputs": [],
   "source": [
    "wheat = df1.query(\"Item=='Wheat'\")\n",
    "wheat"
   ]
  },
  {
   "cell_type": "code",
   "execution_count": null,
   "metadata": {},
   "outputs": [],
   "source": [
    "app = Dash()"
   ]
  },
  {
   "cell_type": "code",
   "execution_count": null,
   "metadata": {},
   "outputs": [],
   "source": [
    "crops = df1"
   ]
  },
  {
   "cell_type": "code",
   "execution_count": null,
   "metadata": {},
   "outputs": [],
   "source": [
    "geo_dropdown = dcc.Dropdown(options=crops['Country'].unique(),\n",
    "                            value='Ireland')\n",
    "\n",
    "app.layout = html.Div(children=[\n",
    "    html.H1(children='Item Prices Dashboard per Country'),\n",
    "    geo_dropdown,\n",
    "    dcc.Graph(id='price-graph')\n",
    "])"
   ]
  },
  {
   "cell_type": "markdown",
   "metadata": {},
   "source": [
    "### Adding interactivity to the dashboard Import Values"
   ]
  },
  {
   "cell_type": "code",
   "execution_count": null,
   "metadata": {},
   "outputs": [],
   "source": [
    "@app.callback(\n",
    "    Output(component_id='price-graph', component_property='figure'),\n",
    "    Input(component_id=geo_dropdown, component_property='value')\n",
    ")\n",
    "def update_graph(selected_geography):\n",
    "    filtered_crops = crops[crops['Country'] == selected_geography]\n",
    "    line_fig = px.line(filtered_crops,\n",
    "                       x='Year', y='import_value',\n",
    "                       color='Year',\n",
    "                       title=f'Import and export volume in {selected_geography}')\n",
    "    return line_fig"
   ]
  },
  {
   "cell_type": "code",
   "execution_count": null,
   "metadata": {},
   "outputs": [],
   "source": [
    "if __name__ == '__main__':\n",
    "    app.run_server(host='localhost', port=8005)"
   ]
  },
  {
   "cell_type": "code",
   "execution_count": null,
   "metadata": {},
   "outputs": [],
   "source": []
  }
 ],
 "metadata": {
  "kernelspec": {
   "display_name": "Python 3",
   "language": "python",
   "name": "python3"
  },
  "language_info": {
   "codemirror_mode": {
    "name": "ipython",
    "version": 3
   },
   "file_extension": ".py",
   "mimetype": "text/x-python",
   "name": "python",
   "nbconvert_exporter": "python",
   "pygments_lexer": "ipython3",
   "version": "3.8.5"
  }
 },
 "nbformat": 4,
 "nbformat_minor": 4
}
